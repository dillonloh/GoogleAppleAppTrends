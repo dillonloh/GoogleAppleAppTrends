{
 "cells": [
  {
   "cell_type": "markdown",
   "id": "separated-brain",
   "metadata": {},
   "source": [
    "**Analysing Free and Paid Apps in both the Google Play and Apple App Store**\n",
    "\n",
    "We analyse the characteristics (price, ratings, category, etc.) of applications on both the Google Play and Apple App Stores. We then attempt to find trends that define both successful and less successful apps to be used in the development of our own company's apps."
   ]
  },
  {
   "cell_type": "code",
   "execution_count": 1,
   "id": "distributed-constitution",
   "metadata": {},
   "outputs": [],
   "source": [
    "# Define a reading function for displaying and exploring the data sets\n",
    "\n",
    "def explore_data(dataset, start, end, rows_and_columns=False):\n",
    "    \"\"\"function for opening and printing rows (start to end rows) from a dataset\"\"\"\n",
    "    \"\"\"if rows_and_columns is True, length of both rows and columns of dataset is also printed\"\"\"\n",
    "    dataset_slice = dataset[start:end]\n",
    "    for row in dataset_slice:\n",
    "        print(row)\n",
    "        print('\\n')\n",
    "        \n",
    "    if rows_and_columns:\n",
    "        print('Numbers of rows:', len(dataset))\n",
    "        print('Number of columns:', len(dataset[0]))\n",
    "    \n",
    "\n"
   ]
  },
  {
   "cell_type": "code",
   "execution_count": 2,
   "id": "aware-visit",
   "metadata": {},
   "outputs": [],
   "source": [
    "from csv import reader\n",
    "\n",
    "\n",
    "apple_apps_data = list(reader(open('AppleStore.csv', encoding='utf8')))\n",
    "google_apps_data = list(reader(open('googleplaystore.csv', encoding='utf8')))"
   ]
  },
  {
   "cell_type": "code",
   "execution_count": 3,
   "id": "animal-target",
   "metadata": {},
   "outputs": [
    {
     "name": "stdout",
     "output_type": "stream",
     "text": [
      "Apple Store Sample\n",
      "['id', 'track_name', 'size_bytes', 'currency', 'price', 'rating_count_tot', 'rating_count_ver', 'user_rating', 'user_rating_ver', 'ver', 'cont_rating', 'prime_genre', 'sup_devices.num', 'ipadSc_urls.num', 'lang.num', 'vpp_lic']\n",
      "\n",
      "\n",
      "['284882215', 'Facebook', '389879808', 'USD', '0.0', '2974676', '212', '3.5', '3.5', '95.0', '4+', 'Social Networking', '37', '1', '29', '1']\n",
      "\n",
      "\n",
      "['389801252', 'Instagram', '113954816', 'USD', '0.0', '2161558', '1289', '4.5', '4.0', '10.23', '12+', 'Photo & Video', '37', '0', '29', '1']\n",
      "\n",
      "\n",
      "Google Play Store Sample\n",
      "['App', 'Category', 'Rating', 'Reviews', 'Size', 'Installs', 'Type', 'Price', 'Content Rating', 'Genres', 'Last Updated', 'Current Ver', 'Android Ver']\n",
      "\n",
      "\n",
      "['Photo Editor & Candy Camera & Grid & ScrapBook', 'ART_AND_DESIGN', '4.1', '159', '19M', '10,000+', 'Free', '0', 'Everyone', 'Art & Design', 'January 7, 2018', '1.0.0', '4.0.3 and up']\n",
      "\n",
      "\n",
      "['Coloring book moana', 'ART_AND_DESIGN', '3.9', '967', '14M', '500,000+', 'Free', '0', 'Everyone', 'Art & Design;Pretend Play', 'January 15, 2018', '2.0.0', '4.0.3 and up']\n",
      "\n",
      "\n"
     ]
    }
   ],
   "source": [
    "print('Apple Store Sample')\n",
    "explore_data(apple_apps_data, 0, 3)\n",
    "\n",
    "print('Google Play Store Sample')\n",
    "explore_data(google_apps_data, 0, 3)\n"
   ]
  },
  {
   "cell_type": "markdown",
   "id": "excessive-membrane",
   "metadata": {},
   "source": [
    "Data Cleanup\n",
    "-------------------\n",
    "\n",
    "We begin the cleanup of our data by removing erroneous data, duplicates, etc."
   ]
  },
  {
   "cell_type": "markdown",
   "id": "aquatic-ballet",
   "metadata": {},
   "source": [
    "**Google Play Store**"
   ]
  },
  {
   "cell_type": "code",
   "execution_count": 4,
   "id": "bizarre-performance",
   "metadata": {},
   "outputs": [
    {
     "name": "stdout",
     "output_type": "stream",
     "text": [
      "['Life Made WI-Fi Touchscreen Photo Frame', '1.9', '19', '3.0M', '1,000+', 'Free', '0', 'Everyone', '', 'February 11, 2018', '1.0.19', '4.0 and up']\n",
      "\n",
      "\n",
      "['osmino Wi-Fi: free WiFi', 'TOOLS', '4.2', '134203', '4.1M', '10,000,000+', 'Free', '0', 'Everyone', 'Tools', 'August 7, 2018', '6.06.14', '4.4 and up']\n",
      "\n",
      "\n"
     ]
    }
   ],
   "source": [
    "explore_data(google_apps_data, 10473, 10474)\n",
    "# removed Life Made app which did not have a 'Category' entry.\n",
    "del (google_apps_data[10473]), \n",
    "explore_data(google_apps_data, 10473, 10474)\n"
   ]
  },
  {
   "cell_type": "markdown",
   "id": "regulation-clock",
   "metadata": {},
   "source": [
    "We define a function that finds the duplicate entries within a given dataset. By iterating through every row, we first check if the name of the row's app has appeared before by checking if it is in the 'unique_names' list. If it is not, we append it to the list and move on to the next row. Otherwise, we check if it is already registered in the 'duplicates' dictionary. If yes, we add one to the duplicate entries count. If no, we register it as a new entry with an initial count of 1.\n"
   ]
  },
  {
   "cell_type": "code",
   "execution_count": 5,
   "id": "upset-hierarchy",
   "metadata": {},
   "outputs": [],
   "source": [
    "def find_duplicates(data_set, number=False, store='google'):\n",
    "    \"\"\"function that returns a list of duplicate entries in dataset\"\"\"\n",
    "    \"\"\"if number == True, return ONLY the total number of duplicate entries\"\"\"\n",
    "    unique_names = []\n",
    "    duplicates = {}\n",
    "    \n",
    "    for row in data_set:\n",
    "        if store == 'google':\n",
    "            name = row[0]\n",
    "        elif store == 'apple':\n",
    "            name = row[0]\n",
    "            \n",
    "        if name not in unique_names:\n",
    "            unique_names.append(name)\n",
    "        else:\n",
    "            if name in duplicates:\n",
    "                duplicates[name] += 1\n",
    "            else:\n",
    "                duplicates[name] = 1\n",
    "    \n",
    "    # Returns the total number of duplicates\n",
    "    if number == True:\n",
    "        count = 0\n",
    "        for key in duplicates:\n",
    "            count += duplicates[key]\n",
    "            \n",
    "        return count\n",
    "    \n",
    "    return duplicates\n"
   ]
  },
  {
   "cell_type": "code",
   "execution_count": 6,
   "id": "portable-decision",
   "metadata": {},
   "outputs": [
    {
     "name": "stdout",
     "output_type": "stream",
     "text": [
      "The following are the duplicate apps in our Google Play Apps dataset:\n",
      "\n",
      "{'Quick PDF Scanner + OCR FREE': 2, 'Box': 2, 'Google My Business': 2, 'ZOOM Cloud Meetings': 1, 'join.me - Simple Meetings': 2, 'Zenefits': 1, 'Google Ads': 2, 'Slack': 2, 'FreshBooks Classic': 1, 'Insightly CRM': 1, 'QuickBooks Accounting: Invoicing & Expenses': 2, 'HipChat - Chat Built for Teams': 1, 'Xero Accounting Software': 1, 'MailChimp - Email, Marketing Automation': 1, 'Crew - Free Messaging and Scheduling': 1, 'Asana: organize team projects': 1, 'Google Analytics': 1, 'AdWords Express': 1, 'Accounting App - Zoho Books': 1, 'Invoice & Time Tracking - Zoho': 1, 'Invoice 2go — Professional Invoices and Estimates': 1, 'SignEasy | Sign and Fill PDF and other Documents': 1, 'Genius Scan - PDF Scanner': 1, 'Tiny Scanner - PDF Scanner App': 1, 'Fast Scanner : Free PDF Scan': 1, 'Mobile Doc Scanner (MDScan) Lite': 1, 'TurboScan: scan documents and receipts in PDF': 1, 'Tiny Scanner Pro: PDF Doc Scan': 1, 'Docs To Go™ Free Office Suite': 1, 'OfficeSuite : Free Office + PDF Editor': 1, 'WhatsApp Messenger': 2, 'Messenger – Text and Video Chat for Free': 2, 'imo free video calls and chat': 3, 'Viber Messenger': 4, 'Hangouts': 3, 'WeChat': 3, 'Telegram': 2, 'Who': 1, 'Google Voice': 2, 'Android Messages': 1, 'Firefox Focus: The privacy browser': 2, 'Google Allo': 2, 'Google Chrome: Fast & Secure': 2, 'Firefox Browser fast & private': 2, 'Puffin Web Browser': 2, 'Opera Browser: Fast and Secure': 2, 'Opera Mini - fast web browser': 2, 'UC Browser Mini -Tiny Fast Private & Secure': 2, 'UC Browser - Fast Download Private & Secure': 2, 'Calls & Text by Mo+': 1, 'Call Blocker': 1, 'Gmail': 2, 'Yahoo Mail – Stay Organized': 2, 'free video calls and chat': 2, 'Skype - free IM & video calls': 2, 'Glide - Video Chat Messenger': 1, 'Talkray - Free Calls & Texts': 1, 'LINE: Free Calls & Messages': 2, 'KakaoTalk: Free Calls & Text': 2, 'OkCupid Dating': 2, 'CMB Free Dating App': 1, 'Hily: Dating, Chat, Match, Meet & Hook up': 2, 'Hinge: Dating & Relationships': 1, 'BBW Dating & Plus Size Chat': 2, 'Casual Dating & Adult Singles - Joyride': 1, 'EliteSingles – Dating for Single Professionals': 1, 'Clover Dating App': 1, 'Moco - Chat, Meet People': 2, 'Hot or Not - Find someone right now': 2, 'Just She - Top Lesbian Dating': 2, 'Once - Quality Matches Every day': 1, 'Sudy – Meet Elite & Rich Single': 1, 'muzmatch: Muslim & Arab Singles, Marriage & Dating': 2, 'Chispa, the Dating App for Latino, Latina Singles': 1, 'Blendr - Chat, Flirt & Meet': 1, 'Find Real Love — YouLove Premium Dating': 1, 'Cougar Dating Life : Date Older Women Sugar Mummy': 1, 'stranger chat - anonymous chat': 1, 'Millionaire Match: Rich Singles Dating App': 1, 'Dating for 50 plus Mature Singles – FINALLY': 1, 'Moco+ - Chat, Meet People': 1, 'Chat Rooms, Avatars, Date - Galaxy': 1, 'FastMeet: Chat, Dating, Love': 1, 'Christian Dating For Free App': 1, 'Meet24 - Love, Chat, Singles': 1, 'Black White Interracial Dating - Interracial Match': 1, 'Gay Sugar Daddy Dating & Hookup – Sudy Gay': 1, 'Adult Dirty Emojis': 2, 'Hide App, Private Dating, Safe Chat - PrivacyHider': 1, 'Meet4U - Chat, Love, Singles!': 1, '95Live -SG#1 Live Streaming App': 1, 'O-Star': 2, 'Random Video Chat': 1, 'Black People Meet Singles Date': 1, 'Howlr': 1, 'Free Dating & Flirt Chat - Choice of Love': 1, 'Cardi B Live Stream Video Chat - Prank': 1, 'Chat Kids - Chat Room For Kids': 1, 'Transenger – Ts Dating and Chat for Free': 1, 'BBW Dating & Curvy Singles Chat- LargeFriends': 1, 'MouseMingle': 1, 'FlirtChat - ♥Free Dating/Flirting App♥': 1, 'Live Talk - Free Text and Video Chat': 1, 'Free Cam Girls - Live Webcam': 1, 'Random Video Chat App With Strangers': 1, 'Live Girls Talk - Free Video Chat': 1, 'Girls Live Chat - Free Text & Video Chat': 1, 'Free Dating App - Meet Local Singles - Flirt Chat': 1, 'iPair-Meet, Chat, Dating': 1, 'Free Dating Hook Up Messenger': 1, 'Free Dating App - YoCutie - Flirt, Chat & Meet': 1, 'Khan Academy': 2, 'TED': 3, 'Lumosity: #1 Brain Games & Cognitive Training App': 1, 'Udemy - Online Courses': 2, 'Duolingo: Learn Languages Free': 6, 'Quizlet: Learn Languages & Vocab with Flashcards': 3, 'Coursera: Online courses': 1, 'Udacity - Lifelong Learning': 1, 'edX - Online Courses by Harvard, MIT & more': 1, 'Lynda - Online Training Videos': 1, 'Learn languages, grammar & vocabulary with Memrise': 3, 'Brilliant': 1, 'Babbel – Learn Languages': 3, 'Rosetta Stone: Learn to Speak & Read New Languages': 3, 'Learn English with Wlingua': 1, 'Google Classroom': 2, 'Learn 50 languages': 1, 'Mango Languages: Lovable Language Courses': 1, 'busuu: Learn Languages - Spanish, English & More': 3, 'My Class Schedule: Timetable': 1, 'Socratic - Math Answers & Homework Help': 1, 'ClassDojo': 2, 'HelloTalk — Chat, Speak & Learn Foreign Languages': 1, 'Movies by Flixster, with Rotten Tomatoes': 2, 'IMDb Movies & TV': 2, 'Netflix': 4, 'Tubi TV - Free Movies & TV': 2, 'Crunchyroll - Everything Anime': 2, 'STARZ': 2, 'Crackle - Free TV & Movies': 2, 'CBS - Full Episodes & Live TV': 1, 'Nick': 5, 'Hulu: Stream TV, Movies & more': 3, 'FOX NOW - On Demand & Live TV': 2, 'The CW': 3, 'HISTORY: Watch TV Show Full Episodes & Specials': 2, 'HBO NOW: Stream TV & Movies': 3, 'A&E - Watch Full Episodes of TV Shows': 3, 'VH1': 2, 'Lifetime - Watch Full Episodes & Original Movies': 2, 'BET NOW - Watch Shows': 2, 'Food Network': 2, 'Viki: Asian TV Dramas & Movies': 2, 'Univision NOW - Live TV and On Demand': 1, 'SHOWTIME': 1, 'MTV': 1, 'Comedy Central': 1, 'FOX': 1, 'Telemundo Now': 1, 'Fandango Movies - Times + Tickets': 1, 'Google Pay': 3, 'Wells Fargo Daily Change': 1, 'Credit Karma': 2, 'Robinhood - Investing, No Fees': 1, 'Digit Save Money Automatically': 1, 'Acorns - Invest Spare Change': 1, 'Money Lover: Expense Tracker, Budget Planner': 1, 'Mint: Budget, Bills, Finance': 2, 'Simple - Better Banking': 1, 'PayPal': 1, 'Wells Fargo Mobile': 1, 'Capital One® Mobile': 1, 'Grubhub: Food Delivery': 1, 'Postmates Food Delivery: Order Eats & Alcohol': 1, \"Domino's Pizza USA\": 1, 'Chick-fil-A': 2, 'Zomato - Restaurant Finder and Food Delivery App': 1, 'Run with Map My Run': 2, 'Weight Loss Running by Verv': 2, 'Nike+ Run Club': 3, 'Runtastic Running App & Mile Tracker': 2, '8fit Workouts & Meal Planner': 1, 'Daily Yoga - Yoga Fitness Plans': 2, 'Pocket Yoga': 1, 'Calorie Counter - MyFitnessPal': 4, 'Seven - 7 Minute Workout Training Challenge': 1, 'Weight Watchers Mobile': 2, 'Walk with Map My Walk': 1, 'Workout Trainer: fitness coach': 1, 'Nike Training Club - Workouts & Fitness Plans': 2, 'Fitbit Coach': 1, 'Endomondo - Running & Walking': 1, 'Runkeeper - GPS Track Run Walk': 1, 'Lose It! - Calorie Counter': 2, 'Calorie Counter - MyNetDiary': 1, '10 Best Foods for You': 1, 'MyPlate Calorie Tracker': 1, 'Weight Loss Tracker - RecStyle': 1, 'Calorie Counter by FatSecret': 1, 'Calorie Counter - Macros': 1, 'My Diet Diary Calorie Counter': 1, 'Lark - 24/7 Health Coach': 1, 'Calorie Counter & Diet Tracker': 1, 'MealLogger-Photo Food Journal': 1, 'Health and Nutrition Guide': 1, 'Food Calorie Calculator': 1, 'Relax Meditation: Sleep with Sleep Sounds': 1, 'Meditation Music - Relax, Yoga': 1, '21-Day Meditation Experience': 1, 'Fabulous: Motivate Me! Meditate, Relax, Sleep': 1, 'Calm - Meditate, Sleep, Relax': 1, 'Relax Melodies: Sleep Sounds': 1, 'Simple Habit Meditation': 1, 'Headspace: Meditation & Mindfulness': 1, 'Houzz Interior Design Ideas': 3, 'Mortgage by Zillow: Calculator & Rates': 1, 'Redfin Real Estate': 1, 'Apartment List: Housing, Apt, and Property Rentals': 1, 'Realtor.com Real Estate: Homes for Sale and Rent': 1, 'Trulia Real Estate & Rentals': 1, 'Zillow: Find Houses for Sale & Apartments for Rent': 1, 'Apartments & Rentals - Zillow': 1, 'Trulia Rent Apartments & Homes': 1, 'Apartments.com Rental Search': 1, 'Vaniday - Beauty Booking App': 1, 'StyleSeat': 1, 'JOANN - Crafts & Coupons': 1, 'Fashion in Vogue': 2, 'Wheretoget: Shop in style': 1, 'My Dressing - Fashion closet': 1, 'Chictopia': 1, 'Scarf Fashion Designer': 1, 'Zara': 1, 'Subway Surfers': 5, 'ROBLOX': 8, 'Pou': 3, '8 Ball Pool': 6, 'Clash of Clans': 3, 'Candy Crush Saga': 6, 'Plants vs. Zombies FREE': 4, 'My Talking Angela': 3, 'Bubble Shooter': 5, 'Word Search': 3, 'Candy Crush Soda Saga': 2, 'Fishdom': 2, 'Block Puzzle': 3, 'Clash Royale': 3, 'Sniper 3D Gun Shooter: Free Shooting Games - FPS': 5, 'Granny': 4, 'Galaxy Attack: Alien Shooter': 2, 'Angry Birds Rio': 3, 'Zombie Catchers': 5, 'Zombie Hunter King': 3, 'Temple Run 2': 5, 'Zombie Tsunami': 4, 'Farm Heroes Saga': 4, 'Super Jim Jump - pixel 3d': 2, 'slither.io': 5, 'Angry Birds Classic': 4, 'Flow Free': 4, 'Helix Jump': 5, 'Toon Blast': 2, 'Kick the Buddy': 3, 'Magic Tiles 3': 3, 'Bowmasters': 5, 'Wordscapes': 3, 'Block Craft 3D: Building Simulator Games For Free': 2, 'PUBG MOBILE': 3, 'DRAGON BALL LEGENDS': 3, 'Harry Potter: Hogwarts Mystery': 1, 'MARVEL Strike Force': 2, 'Merge Dragons!': 1, 'Honkai Impact 3rd': 1, 'Toy Blast': 1, 'Homescapes': 1, 'Cooking Fever': 1, 'Gardenscapes': 1, 'Score! Hero': 2, 'Dream League Soccer 2018': 2, 'Fruits Bomb': 1, 'Talking Tom Gold Run': 3, 'My Talking Tom': 2, 'Hill Climb Racing': 3, 'Pixel Art: Color by Number Game': 2, 'Rider': 1, 'Garena Free Fire': 3, 'Miraculous Ladybug & Cat Noir - The Official Game': 2, 'Solitaire': 2, 'Traffic Racer': 1, 'Earn to Die 2': 1, 'Bubble Shooter 2': 1, 'Candy Crush Jelly Saga': 1, 'Cut the Rope FULL FREE': 2, 'Jewels Star: OZ adventure': 1, 'Hungry Shark Evolution': 2, 'Best Fiends - Free Puzzle Game': 1, 'Hill Climb Racing 2': 1, 'Swamp Attack': 1, 'Block Puzzle Classic Legend !': 1, 'DEAD TARGET: FPS Zombie Apocalypse Survival Games': 1, 'YouTube Kids': 3, 'Candy Bomb': 1, 'Princess Coloring Book': 1, 'Hello Kitty Nail Salon': 1, 'Dog Run - Pet Dog Simulator': 2, 'Coloring book moana': 1, 'Barbie™ Fashion Closet': 1, 'Minion Rush: Despicable Me Official Game': 3, 'No.Draw - Colors by Number 2018': 1, 'Super ABC! Learning games for kids! Preschool apps': 1, 'PJ Masks: Moonlight Heroes': 2, 'Hot Wheels: Race Off': 1, 'Farming Simulator 14': 1, 'Mcqueen Coloring pages': 1, 'Monster Truck Driver & Racing': 1, 'Strawberry Shortcake BerryRush': 2, 'DC Super Hero Girls™': 3, 'Toca Kitchen 2': 2, 'Disney Magic Kingdoms: Build Your Own Magical Park': 1, 'Toca Life: City': 1, 'Papumba Academy - Fun Learning For Kids': 2, 'Kids Balloon Pop Game Free 🎈': 1, 'Sounds for Toddlers FREE': 1, 'Elmo Calls by Sesame Street': 2, 'Sago Mini Friends': 2, 'Tee and Mo Bath Time Free': 1, 'Bita and the Animals - Pelos Ares': 1, 'TO-FU Oh!SUSHI': 1, 'DreamWorks Friends': 1, 'Avokiddo Emotions': 1, 'Nighty Night Circus': 1, 'Sago Mini Babies': 1, \"Dr. Panda & Toto's Treehouse\": 2, 'PlayKids - Educational cartoons and games for kids': 1, 'Baby Panda Care': 1, 'Monster High™': 1, 'Shopkins World!': 1, 'DisneyNOW – TV Shows & Games': 2, 'Equestria Girls': 2, 'Frozen Free Fall': 2, 'Thomas & Friends: Race On!': 1, 'Inside Out Thought Bubbles': 1, 'School of Dragons': 1, 'Peak – Brain Games & Training': 1, 'Period Tracker': 1, 'Vargo Anesthesia Mega App': 1, 'Monash Uni Low FODMAP Diet': 1, 'mySugr: the blood sugar tracker made just for you': 2, 'Human Anatomy Atlas 2018: Complete 3D Human Body': 2, 'ASCCP Mobile': 1, 'Paramedic Protocol Provider': 1, '2017 EMRA Antibiotic Guide': 1, 'Essential Anatomy 3': 1, 'EMT PASS': 1, 'Block Buddy': 1, 'EMT Review Plus': 1, 'Journal Club: Medicine': 1, 'Pedi STAT': 1, 'AnatomyMapp': 1, 'Diabetes & Diet Tracker': 1, 'A Manual of Acupuncture': 1, 'PTA Content Master': 1, 'Muscle Premium - Human Anatomy, Kinesiology, Bones': 1, 'Cardiac diagnosis (heart rate, arrhythmia)': 2, 'Medical ID - In Case of Emergency (ICE)': 1, 'IBM Micromedex Drug Info': 1, 'Advanced Comprehension Therapy': 1, 'Hospitalist Handbook': 1, 'Teladoc Member': 1, 'Ada - Your Health Guide': 1, 'Ovia Fertility Tracker & Ovulation Calculator': 1, 'Youper - AI Therapy': 2, 'MoodSpace': 1, 'Super Hearing Super Ear Amplifier': 1, 'Penn State Health OnDemand': 1, 'ScriptSave WellRx Rx Discounts': 1, 'Free Blood Pressure': 2, 'All Mental disorders': 1, 'Nurse Grid': 1, 'JH Blood Pressure Monitor': 1, 'Blood Pressure': 2, 'RT 516 VET': 1, 'Anthem Anywhere': 1, 'Sway Medical': 1, \"fred's Pharmacy\": 1, 'Breastfeeding Tracker Baby Log': 1, 'Banfield Pet Health Tracker': 1, '1800 Contacts - Lens Store': 1, 'TextNow - free text + calls': 1, 'Tumblr': 2, 'Snapchat': 3, 'Instagram': 3, 'Periscope - Live Video': 2, 'Pinterest': 2, 'MeetMe: Chat & Meet New People': 4, 'ooVoo Video Calls, Messaging & Stories': 1, 'LinkedIn': 1, 'Tango - Live Video Broadcast': 1, 'SayHi Chat, Meet New People': 2, 'Tapatalk - 100,000+ Forums': 1, 'Badoo - Free Chat & Dating App': 3, 'Nextdoor - Local neighborhood news & classifieds': 1, 'Meetup': 3, 'Text Free: WiFi Calling App': 2, 'textPlus: Free Text & Calls': 1, 'POF Free Dating App': 2, 'Tagged - Meet, Chat & Dating': 1, 'LOVOO': 1, 'SKOUT - Meet, Chat, Go Live': 1, 'Jaumo Dating, Flirt & Live Video': 1, 'Couple - Relationship App': 1, 'Wish - Shopping Made Fun': 4, 'SnipSnap Coupon App': 1, 'Extreme Coupon Finder': 2, 'Checkout 51: Grocery coupons': 2, 'The Coupons App': 3, 'RetailMeNot - Coupons, Deals & Discount Shopping': 2, 'Groupon - Shop Deals, Discounts & Coupons': 3, 'Stocard - Rewards Cards Wallet': 1, 'eBay: Buy & Sell this Summer - Discover Deals Now!': 4, 'Gyft - Mobile Gift Card Wallet': 2, 'Shopkick: Free Gift Cards, Shop Rewards & Deals': 1, 'Shopular: Coupons, Weekly Ads & Shopping Deals': 1, 'Carousell: Snap-Sell, Chat-Buy': 1, 'Walmart': 1, 'Ibotta: Cash Back Savings, Rewards & Coupons App': 1, 'AliExpress - Smarter Shopping, Better Living': 3, 'LivingSocial - Local Deals': 2, 'Amazon Shopping': 2, 'Poshmark - Buy & Sell Fashion': 1, 'Target - now with Cartwheel': 2, 'ZALORA Fashion Shopping': 1, 'Fancy': 2, \"Modcloth – Unique Indie Women's Fashion & Style\": 1, \"JackThreads: Men's Shopping\": 2, 'Zappos – Shoe shopping made simple': 1, 'Wanelo Shopping': 1, 'Etsy: Handmade & Vintage Goods': 1, 'Slickdeals: Coupons & Shopping': 2, 'ASOS': 1, 'Google Photos': 3, 'Shutterfly: Free Prints, Photo Books, Cards, Gifts': 3, 'InstaBeauty -Makeup Selfie Cam': 1, 'B612 - Beauty & Filter Camera': 2, 'BeautyPlus - Easy Photo Editor & Selfie Camera': 4, 'YouCam Perfect - Selfie Photo Editor': 2, 'Muzy - Share photos & collages': 1, 'QuickPic - Photo Gallery with Google Drive Support': 2, 'Flickr': 1, 'Open Camera': 2, 'Camera for Android': 2, 'Cymera Camera- Photo Editor, Filter,Collage,Layout': 3, 'Candy Camera - selfie, beauty camera, photo editor': 2, 'Camera360: Selfie Photo Editor with Funny Sticker': 2, 'Facetune - For Free': 2, 'Photo Editor Selfie Camera Filter & Mirror Image': 1, 'HD Camera for Android': 1, 'Photo Editor Pro': 1, 'YouCam Makeup - Magic Selfie Makeovers': 1, 'Photo Editor-': 1, 'Photo Editor': 1, 'Adobe Photoshop Express:Photo Editor Collage Maker': 1, 'InstaSize Photo Filters & Collage Editor': 1, 'CBS Sports App - Scores, News, Stats & Watch Live': 7, 'Yahoo Fantasy Sports - #1 Rated Fantasy App': 4, 'ESPN': 6, 'NFL': 2, 'Bleacher Report: sports news, scores, & highlights': 5, 'ESPN Fantasy Sports': 3, 'theScore: Live Sports Scores, News, Stats & Videos': 4, 'MLB At Bat': 4, 'WatchESPN': 3, 'Hole19: Golf GPS App, Rangefinder & Scorecard': 1, 'CBS Sports Fantasy': 1, 'Yahoo Sports - scores, stats, news, & highlights': 2, 'FotMob - Live Soccer Scores': 1, 'US Open Tennis Championships 2018': 1, 'FIFA - Tournaments, Soccer News & Live Scores': 1, 'Golfshot: Golf GPS + Tee Times': 1, 'BBC Sport': 1, 'MLB Ballpark': 1, 'FOX Sports: Live Streaming, Scores & News': 1, 'Fantasy Football': 1, 'PGA TOUR': 1, 'UFC': 1, 'trivago: Hotels & Travel': 2, 'Expedia Hotels, Flights & Car Rental Travel Deals': 3, 'TripAdvisor Hotels Flights Restaurants Attractions': 4, 'Skyscanner': 4, 'Booking.com Travel Deals': 2, 'Priceline Hotel Deals, Rental Cars & Flights': 2, 'United Airlines': 1, 'Southwest Airlines': 1, 'Hopper - Watch & Book Flights': 1, 'Fly Delta': 1, 'KAYAK Flights, Hotels & Cars': 2, 'American Airlines': 2, 'Orbitz - Hotels, Flights & Package Deals': 1, 'Hotels.com: Book Hotel Rooms & Find Vacation Deals': 1, 'Hostelworld: Hostels & Cheap Hotels Travel App': 1, 'Airbnb': 1, 'HotelTonight: Book amazing deals at great hotels': 2, 'Maps - Navigate & Explore': 2, 'Google Street View': 1, 'Calculator': 1, 'Gboard - the Google Keyboard': 2, 'ZEDGE™ Ringtones & Wallpapers': 3, 'Nova Launcher': 1, 'Apex Launcher': 2, 'Smart Launcher 5': 1, 'Google Keep': 3, 'Evernote – Organizer, Planner for Notes & Memos': 3, 'ES File Explorer File Manager': 2, 'Microsoft Word': 2, 'Google Drive': 3, 'Adobe Acrobat Reader': 2, 'Google PDF Viewer': 2, 'Microsoft Excel': 1, 'Google Docs': 2, 'Microsoft PowerPoint': 1, 'Microsoft OneNote': 2, 'Google Calendar': 2, 'Wunderlist: To-Do List & Tasks': 2, 'Any.do: To-do list, Calendar, Reminders & Planner': 2, 'Todoist: To-do lists for task management & errands': 2, 'Planner Pro-Personal Organizer': 1, 'Microsoft OneDrive': 1, 'Dropbox': 2, 'MX Player': 2, 'Video Editor': 2, 'Google News': 3, 'Flipboard: News For Our Time': 2, 'BBC News': 2, 'Fox News – Breaking News, Live Video & News Alerts': 2, 'USA TODAY': 2, 'CNN Breaking US & World News': 2, 'Twitter': 2, 'NPR News': 1, 'Haystack TV: Local & World News - Free': 1, 'ABC News - US & World News': 1, 'NBC News': 1, 'The Wall Street Journal: Business & Market News': 1, 'NYTimes - Latest News': 2, 'Newsroom: News Worth Sharing': 1, 'BuzzFeed: News, Tasty, Quizzes': 1, 'Flashlight': 1, 'Agar.io': 1, 'LEGO® Juniors Create & Cruise': 1, 'Google Translate': 1, 'Pokémon GO': 1, 'PAC-MAN': 1, 'Colorfy: Coloring Book for Adults - Free': 1, 'YouTube': 1, \"Alto's Adventure\": 1, 'Facebook': 1, 'VPN Free - Betternet Hotspot VPN & Private Browser': 1, 'EMT Tutor NREMT-B Study Guide': 1, 'EMT-B Pocket Prep': 1, 'Diary with lock': 1, 'C Programming': 1, 'CppDroid - C/C++ IDE': 1, 'Learn C++': 1, 'Google Duo - High Quality Video Calls': 1, 'Crossy Road': 1, 'E*TRADE Mobile': 1, 'WWE': 1, 'Amazon Kindle': 1, 'Microsoft Edge': 1, 'Microsoft Outlook': 1, 'Ebook Reader': 1, 'Flipkart Online Shopping App': 1, 'Facebook Lite': 1, 'Messenger Lite: Free Calls & Messages': 1, 'imo beta free calls and text': 1, 'Geometry Dash World': 1, 'Google+': 1, 'Google': 1, 'G Cloud Backup': 1, 'H&M': 1, 'H TV': 1, 'Talking Ben the Dog': 1, 'Sonic Dash': 1, 'Talkatone: Free Texts, Calls & Phone Number': 1, 'Textgram - write on photos': 1, 'Jetpack Joyride': 1, 'Anger of stick 5 : zombie': 1, 'Turbo FAST': 1, 'K PLUS': 1, 'PowerDirector Video Editor App: 4K, Slow Mo & More': 1, 'Fuzzy Numbers: Pre-K Number Foundation': 1, 'LiveMe - Video chat, new friends, and make money': 1, 'letgo: Buy & Sell Used Stuff, Cars & Real Estate': 1, 'Love Balls': 1, 'Last Day on Earth: Survival': 1, 'Minecraft': 1, 'MEGA': 1, 'I’m Expecting - Pregnancy App': 1, 'Diabetes:M': 1, 'PicsArt Photo Studio: Collage Maker & Pic Editor': 1, 'Quora': 1, 'SHAREit - Transfer & Share': 1, 'Topbuzz: Breaking News, Videos & Funny GIFs': 1, 'Twitch: Livestream Multiplayer Games & Esports': 1, 'myAT&T': 1, 'Truecaller: Caller ID, SMS spam blocking & Dialer': 1, 'Showtime Anytime': 1, 'Uber': 1, 'VLC for Android': 1, 'Vigo Video': 1, 'Wattpad 📖 Free Books': 1, 'Waze - GPS, Maps, Traffic Alerts & Live Navigation': 1, 'Dating App, Flirt & Chat : W-Match': 1, 'WPS Office - Word, Docs, PDF, Note, Slide & Sheet': 1, 'LINE WEBTOON - Free Comics': 1, 'WhatsApp Business': 1, 'We Heart It': 1, 'Telegram X': 1, 'Share Music & Transfer Files - Xender': 1, 'Yandex Browser with Protect': 1, 'YouTube Studio': 1, 'PBS KIDS Video': 1, 'YouTube Gaming': 1, 'GO Keyboard - Emoticon keyboard, Free Theme, GIF': 1, 'Zello PTT Walkie Talkie': 1, 'Z Camera - Photo Editor, Beauty Selfie, Collage': 1, 'Six Pack in 30 Days - Abs Workout': 1, 'Angry Birds 2': 1, 'AC - Tips & News for Android™': 1, 'CM Browser - Ad Blocker , Fast Download , Privacy': 1, 'Mobi Calculator free & AD free!': 1, 'Flipp - Weekly Shopping': 1, 'Camera FV-5 Lite': 1, 'All Football - Latest News & Videos': 1, 'Maricopa AH': 1, 'Animal Jam - Play Wild!': 1, 'RULES OF SURVIVAL': 1, 'Amazon for Tablets': 1, 'Final Fantasy XV: A New Empire': 1, 'The Sims™ FreePlay': 1, 'Text free - Free Text + Call': 1, '365Scores - Live Scores': 1, 'DINO HUNTER: DEADLY SHORES': 1, 'AP Mobile - Breaking News': 1, 'Reuters News': 1, 'AccuWeather: Daily Forecast & Live Weather Reports': 1, 'Moovit: Bus Time & Train Time Live Info': 1, 'Jurassic World™ Alive': 1, 'Overstock – Home Decor, Furniture Shopping': 1, 'Choices: Stories You Play': 1, 'Runtastic Sleep Better: Sleep Cycle & Smart Alarm': 1, 'Ringtone Maker': 1, 'Plants vs. Zombies™ Heroes': 1, 'CM FILE MANAGER HD': 1, 'realestate.com.au - Buy, Rent & Sell Property': 1, 'Video Player All Format': 1, 'DEER HUNTER 2018': 1, 'Google Play Games': 1, 'ai.type Free Emoji Keyboard': 1, 'Manga AZ - Manga Comic Reader': 1, 'British Airways': 1, 'Anthem BC Anywhere': 1, 'Transit: Real-Time Transit App': 1, 'PMHNP-BC Pocket Prep': 1, 'Backgrounds HD (Wallpapers)': 1, 'Blur Image Background': 1, 'Newegg Mobile': 1, 'English Dictionary - Offline': 1, 'English Grammar Test': 1, 'Daily Manga - Comic & Webtoon': 1, 'BBM - Free Calls & Messages': 1, 'BeyondMenu Food Delivery': 1, 'NOOK: Read eBooks & Magazines': 1, 'NOOK App for NOOK Devices': 1, 'HBO GO: Stream with TV Package': 1, 'No Crop & Square for Instagram': 1, 'Hungry Shark World': 1, 'iBP Blood Pressure': 1, 'Blood Pressure Log - MyDiary': 1, 'Blood Pressure(BP) Diary': 1, 'BP Journal - Blood Pressure Diary': 1, 'Blood Pressure Monitor': 1, 'Blood Pressure Companion': 1, 'High Blood Pressure Symptoms': 1, 'QR Scanner & Barcode Scanner 2018': 1, 'Camera FV-5': 1, 'Camera MX - Free Photo & Video Camera': 1, 'Cardboard': 1, 'Maps & GPS Navigation — OsmAnd': 1, 'Beautiful Widgets Pro': 1, 'Beautiful Widgets Free': 1, 'HD Widgets': 1, 'Color by Number – New Coloring Book': 1, 'Photo Editor by Aviary': 1, 'UNICORN - Color By Number & Pixel Art Coloring': 1, '420 BZ Budeze Delivery': 1, 'BZWBK24 mobile': 1, 'Zoosk Dating App: Meet Singles': 1, 'Cricbuzz - Live Cricket Scores & News': 1, 'Cheapflights – Flight Search': 1, 'Chrome Beta': 1, 'Chrome Dev': 1, 'CJmall': 1, 'Castle Clash: Heroes of the Empire US': 1, 'CM Launcher 3D - Theme, Wallpapers, Efficient': 1, 'CM Locker - Security Lockscreen': 1, 'CM Flashlight (Compass, SOS)': 1, 'Ruler': 1, 'Cartoon Network App': 1, 'LEGO® TV': 1, 'Brit + Co': 1, 'CT Scan Cross Sectional Anatomy': 1, 'Shadow Fight 2': 1, 'Curriculum vitae App CV Builder Free Resume Maker': 1, 'CW Seed': 1, 'Camera360 Lite - Selfie Camera': 1, 'Mapy.cz - Cycling & Hiking offline maps': 1, 'Face Filter, Selfie Editor - Sweet Camera': 1, 'Metal Soldiers 2': 1, \"COOKING MAMA Let's Cook!\": 1, 'Run Sausage Run!': 1, 'Knife Hit': 1, 'DC Comics': 1, 'MARVEL Contest of Champions': 1, 'wetter.com - Weather and Radar': 1, 'CallApp: Caller ID, Blocker & Phone Call Recorder': 1, 'LINE Camera - Photo editor': 1, 'Racing in Car 2': 1, 'Dungeon Hunter Champions: Epic Online Action RPG': 1, 'Red Bull TV: Live Sports, Music & Entertainment': 1, 'Idle Heroes': 1, 'Free phone calls, free texting SMS on free number': 1, 'Phone Tracker : Family Locator': 1, 'My Photo Keyboard': 1, 'Whoscall - Caller ID & Block': 1, 'Google Sheets': 1, 'Video Downloader': 1, 'Notepad & To do list': 1, 'Polaris Office - Word, Docs, Sheets, Slide, PDF': 1, 'Do It Later: Tasks & To-Dos': 1, 'To-Do Calendar Planner': 1, 'TickTick: To Do List with Reminder, Day Planner': 1, 'ColorNote Notepad Notes': 1, 'Dude Perfect 2': 1, 'Dairy Queen': 1, 'SONIC Drive-In': 1, \"McDonald's\": 1, 'Wendy’s – Food and Offers': 1, \"Dunkin' Donuts\": 1, 'SUBWAY®': 1, 'Panera Bread': 1, 'Starbucks': 1, 'Cache Cleaner-DU Speed Booster (booster & cleaner)': 1, 'DU Browser—Browse fast & fun': 1, 'Real Racing 3': 1, 'My Little Pony Celebration': 1, 'My Little Pony: Harmony Quest': 1, 'The Emirates App': 1, 'Phogy, 3D Camera': 1, 'Weather by eltiempo.es': 1, 'The Game of Life': 1, 'Spanish English Translator': 1, \"Game for KIDS: KIDS match'em\": 1, 'Dictionary - Merriam-Webster': 1, 'Edmodo': 1, 'Chess Free': 1, 'Oxford Dictionary of English : Free': 1, 'Masha and the Bear Child Games': 1, 'Episode - Choose Your Story': 1, 'The NBC App - Watch Live TV and Full Episodes': 1, 'Moto File Manager': 1, 'Moneycontrol – Stocks, Sensex, Mutual Funds, IPO': 1, 'CNBC: Breaking Business News & Live Market Data': 1, 'Google Earth': 1, 'Amino: Communities and Chats': 1, 'Hangouts Dialer - Call Phones': 1, 'Offline Maps & Navigation': 1, 'Strawberry Shortcake Ice Cream Island': 1, 'Home Workout - No Equipment': 1, 'Home Security Camera WardenCam - reuse old phones': 1, 'Web Browser for Android': 1, 'Airway Ex - Intubate. Anesthetize. Train.': 1, 'FilterGrid - Cam&Photo Editor': 1, 'Messages, Text and Video Chat for Messenger': 1, 'All Social Networks': 1, 'Premier League - Official App': 1, 'Fallout Shelter': 1, 'Facebook Pages Manager': 1, 'Facebook Ads Manager': 1, 'Who Viewed My Facebook Profile - Stalkers Visitors': 1, 'The 5th Stand': 1, 'osmino Wi-Fi: free WiFi': 1, 'Fun Kid Racing - Motocross': 1, 'Podcast App: Free & Offline Podcasts by Player FM': 1, 'Motorola FM Radio': 1, 'FarmersOnly Dating': 1, 'FP Notebook': 1, 'AAFP': 1}\n"
     ]
    },
    {
     "name": "stdout",
     "output_type": "stream",
     "text": [
      "The total number of duplicate entries is: 1181\n"
     ]
    }
   ],
   "source": [
    "google_apps_duplicates = find_duplicates(google_apps_data)\n",
    "print('The following are the duplicate apps in our Google Play Apps dataset:\\n')\n",
    "print(google_apps_duplicates)\n",
    "\n",
    "google_apps_duplicates_count = find_duplicates(google_apps_data, number=True)\n",
    "print('The total number of duplicate entries is:', google_apps_duplicates_count)\n"
   ]
  },
  {
   "cell_type": "markdown",
   "id": "eligible-writing",
   "metadata": {},
   "source": [
    "Having identified the duplicates in our above dictionary, we now remove the duplicate entries for each app from our dataset. The criteria for which entry we choose to keep boils down to keeping only the most recent entry, which is indicated by the number of reviews each entry has. We assume that reviews are not removed over time, and hence the more reviews there are, the later the entry was made.\n"
   ]
  },
  {
   "cell_type": "code",
   "execution_count": 7,
   "id": "opened-eating",
   "metadata": {},
   "outputs": [],
   "source": [
    "def find_max_review_entry(data_set):\n",
    "    \"\"\"function that returns a dictionary with keys = name of app\n",
    "    and value = the max review score among all its entries\"\"\"\n",
    "    reviews_max = {}\n",
    "    for row in data_set[1:]:\n",
    "        name = row[0]\n",
    "        n_reviews = float(row[3])\n",
    "        if name not in reviews_max:\n",
    "            reviews_max[name] = n_reviews\n",
    "        elif name in reviews_max and n_reviews > reviews_max[name]:\n",
    "            reviews_max[name] = n_reviews\n",
    "                \n",
    "    return reviews_max\n",
    "\n",
    "def remove_duplicates(data_set):\n",
    "    \"\"\"function to remove duplicates from a data_set and\n",
    "    keep only the entry with the highest review count and return the\n",
    "    cleaned dataset\"\"\"\n",
    "\n",
    "    cleaned_list, already_added = [], []\n",
    "    \n",
    "    max_reviews_list = find_max_review_entry(data_set)\n",
    "    \n",
    "    for row in data_set[1:]:\n",
    "        name = row[0]\n",
    "        n_reviews = float(row[3])\n",
    "        if (name not in already_added) and (n_reviews == max_reviews_list[name]):\n",
    "            cleaned_list.append(row)\n",
    "            already_added.append(name)\n",
    "    \n",
    "    return cleaned_list\n",
    "        \n"
   ]
  },
  {
   "cell_type": "code",
   "execution_count": 8,
   "id": "female-intent",
   "metadata": {},
   "outputs": [
    {
     "name": "stdout",
     "output_type": "stream",
     "text": [
      "9659\n"
     ]
    }
   ],
   "source": [
    "print(len(find_max_review_entry(google_apps_data)))"
   ]
  },
  {
   "cell_type": "code",
   "execution_count": 9,
   "id": "fatal-offset",
   "metadata": {},
   "outputs": [
    {
     "name": "stdout",
     "output_type": "stream",
     "text": [
      "9659\n"
     ]
    }
   ],
   "source": [
    "cleaned_google_apps_data = remove_duplicates(google_apps_data)\n",
    "print(len(cleaned_google_apps_data))"
   ]
  },
  {
   "cell_type": "markdown",
   "id": "regular-workshop",
   "metadata": {},
   "source": [
    "Since our company only develops apps targetting an English-speaking audience, we wish to only analyse apps that are similar in this way. We use an English-language filter that checks the name of each app, and use it to decide if that app is targetted at an English speaking audience. If so, we keep that data point in our dataset.\n"
   ]
  },
  {
   "cell_type": "code",
   "execution_count": 10,
   "id": "quiet-clause",
   "metadata": {},
   "outputs": [],
   "source": [
    "def check_english(string):\n",
    "    \"\"\"function for checking if a string is english\"\"\"\n",
    "    \"\"\"returns False if >3 chars are outside the ASCII range\"\"\"\n",
    "    \n",
    "    count = 0\n",
    "    \n",
    "    for char in string:\n",
    "        if ord(char) > 127 or ord(char) < 0:\n",
    "            count += 1\n",
    "            if count == 4:\n",
    "                return False\n",
    "            \n",
    "    return True\n",
    "\n",
    "def filter_dataset_english(data_set, store='google'):\n",
    "    \"\"\"filters out and removes all apps that DON'T target\n",
    "    an English-speaking audience\"\"\"\n",
    "    \n",
    "    filtered_dataset = []\n",
    "    \n",
    "    for row in data_set:\n",
    "        if store == 'google':\n",
    "            name = row[0]\n",
    "        elif store == 'apple':\n",
    "            name = row[1]\n",
    "            \n",
    "        if check_english(name):\n",
    "            filtered_dataset.append(row)\n",
    "    \n",
    "    return filtered_dataset\n",
    "    \n",
    "\n"
   ]
  },
  {
   "cell_type": "code",
   "execution_count": 11,
   "id": "competitive-opportunity",
   "metadata": {},
   "outputs": [
    {
     "name": "stdout",
     "output_type": "stream",
     "text": [
      "9614\n"
     ]
    }
   ],
   "source": [
    "cleaned_google_apps_data = filter_dataset_english(cleaned_google_apps_data, store='google')\n",
    "print(len(cleaned_google_apps_data))\n"
   ]
  },
  {
   "cell_type": "markdown",
   "id": "cooked-device",
   "metadata": {},
   "source": [
    "As our company focuses on producing apps that are free for download and install, and focuses monetisation efforts on in-app ads, we want to filter out all apps in our dataset that are not free. We prepare a filter function that returns us a list of apps which are free.\n"
   ]
  },
  {
   "cell_type": "code",
   "execution_count": 12,
   "id": "small-element",
   "metadata": {},
   "outputs": [],
   "source": [
    "def filter_dataset_free(data_set, store='google'):\n",
    "    \"\"\"filters out and removes apps that are NOT free\"\"\"\n",
    "    \"\"\"set store='google' if Google Play Apps\"\"\"\n",
    "    \"\"\"set store='apple' if Apple Store\"\"\"\n",
    "    \n",
    "    filtered_dataset = []\n",
    "    \n",
    "    if store == 'google':\n",
    "        for row in data_set:\n",
    "            price = row[7]\n",
    "            if price == '0':\n",
    "                filtered_dataset.append(row)\n",
    "        \n",
    "        return filtered_dataset\n",
    "\n",
    "    elif store == 'apple':\n",
    "        for row in data_set:\n",
    "            price = row[4]\n",
    "            if price == '0.0':\n",
    "                filtered_dataset.append(row)\n",
    "        \n",
    "        return filtered_dataset    \n",
    "                "
   ]
  },
  {
   "cell_type": "code",
   "execution_count": 13,
   "id": "occasional-deadline",
   "metadata": {},
   "outputs": [
    {
     "name": "stdout",
     "output_type": "stream",
     "text": [
      "8864\n"
     ]
    }
   ],
   "source": [
    "cleaned_google_apps_data = filter_dataset_free(cleaned_google_apps_data, store='google')\n",
    "print(len(cleaned_google_apps_data))"
   ]
  },
  {
   "cell_type": "markdown",
   "id": "authentic-profession",
   "metadata": {},
   "source": [
    "**Apple App Store**\n",
    "\n",
    "We make use of all the functions that we had prepared for the Google Play Store dataset cleanup without need for any additional preparations."
   ]
  },
  {
   "cell_type": "code",
   "execution_count": 14,
   "id": "integral-dealer",
   "metadata": {},
   "outputs": [
    {
     "name": "stdout",
     "output_type": "stream",
     "text": [
      "The following are the duplicate apps in our Apple Store Apps dataset:\n",
      "\n",
      "{}\n",
      "The total number of duplicate entries is: 0\n"
     ]
    }
   ],
   "source": [
    "apple_apps_duplicates = find_duplicates(apple_apps_data, store='apple')\n",
    "print('The following are the duplicate apps in our Apple Store Apps dataset:\\n')\n",
    "print(apple_apps_duplicates)\n",
    "\n",
    "apple_apps_duplicates_count = find_duplicates(apple_apps_data, number=True, store='apple')\n",
    "print('The total number of duplicate entries is:', apple_apps_duplicates_count)\n"
   ]
  },
  {
   "cell_type": "markdown",
   "id": "blind-browse",
   "metadata": {},
   "source": [
    "In order to maximise the market reach of our app, we need to ensure that our app fits the popular app profiles on both Google Play and Apple App Store. To validate our app idea, we will first produce a lightweight version for the Android platform, and gather user responses over the next six months after initial publishing. If response is good, we will then work on and publish an iOS version.\n",
    "\n",
    "This allows us to exit the idea with minimal loss if it turns out that the app is not performing as expected."
   ]
  },
  {
   "cell_type": "code",
   "execution_count": 15,
   "id": "primary-farming",
   "metadata": {},
   "outputs": [
    {
     "name": "stdout",
     "output_type": "stream",
     "text": [
      "6183\n"
     ]
    }
   ],
   "source": [
    "cleaned_apple_apps_data = filter_dataset_english(apple_apps_data[1:], store='apple')\n",
    "print(len(cleaned_apple_apps_data))\n",
    "\n"
   ]
  },
  {
   "cell_type": "code",
   "execution_count": 16,
   "id": "artificial-dragon",
   "metadata": {},
   "outputs": [
    {
     "name": "stdout",
     "output_type": "stream",
     "text": [
      "3222\n"
     ]
    }
   ],
   "source": [
    "cleaned_apple_apps_data = filter_dataset_free(cleaned_apple_apps_data, store='apple')\n",
    "print(len(cleaned_apple_apps_data))"
   ]
  },
  {
   "cell_type": "markdown",
   "id": "solar-archive",
   "metadata": {},
   "source": [
    "## Creating a Frequency Table\n",
    "\n",
    "We now proceed to use our cleaned-up data to create a frequency table to better see the trends within our data."
   ]
  },
  {
   "cell_type": "code",
   "execution_count": 19,
   "id": "returning-cholesterol",
   "metadata": {},
   "outputs": [],
   "source": [
    "def freq_table(dataset, index):\n",
    "    \"\"\"function that returns a dictionary (freq table) of our data set\"\"\"\n",
    "    \n",
    "    freq_table = {}\n",
    "    \n",
    "    for row in dataset:\n",
    "        entry = row[index]\n",
    "        if entry not in freq_table:\n",
    "            freq_table[entry] = 1\n",
    "        else:\n",
    "            freq_table[entry] += 1\n",
    "        \n",
    "    return freq_table\n",
    "\n",
    "def display_table(dataset, index):\n",
    "    table = freq_table(dataset, index)\n",
    "    table_display = []\n",
    "    for key in table:\n",
    "        key_val_as_tuple = (table[key], key)\n",
    "        table_display.append(key_val_as_tuple)\n",
    "\n",
    "    table_sorted = sorted(table_display, reverse = True)\n",
    "    for entry in table_sorted:\n",
    "        print(entry[1], ':', entry[0])"
   ]
  },
  {
   "cell_type": "code",
   "execution_count": 23,
   "id": "utility-village",
   "metadata": {},
   "outputs": [
    {
     "name": "stdout",
     "output_type": "stream",
     "text": [
      "Google Play Store Genre Rankings\n",
      "\n",
      "Tools : 749\n",
      "Entertainment : 538\n",
      "Education : 474\n",
      "Business : 407\n",
      "Productivity : 345\n",
      "Lifestyle : 345\n",
      "Finance : 328\n",
      "Medical : 313\n",
      "Sports : 307\n",
      "Personalization : 294\n",
      "Communication : 287\n",
      "Action : 275\n",
      "Health & Fitness : 273\n",
      "Photography : 261\n",
      "News & Magazines : 248\n",
      "Social : 236\n",
      "Travel & Local : 206\n",
      "Shopping : 199\n",
      "Books & Reference : 190\n",
      "Simulation : 181\n",
      "Dating : 165\n",
      "Arcade : 164\n",
      "Video Players & Editors : 157\n",
      "Casual : 156\n",
      "Maps & Navigation : 124\n",
      "Food & Drink : 110\n",
      "Puzzle : 100\n",
      "Racing : 88\n",
      "Role Playing : 83\n",
      "Libraries & Demo : 83\n",
      "Auto & Vehicles : 82\n",
      "Strategy : 81\n",
      "House & Home : 73\n",
      "Weather : 71\n",
      "Events : 63\n",
      "Adventure : 60\n",
      "Comics : 54\n",
      "Beauty : 53\n",
      "Art & Design : 53\n",
      "Parenting : 44\n",
      "Card : 40\n",
      "Casino : 38\n",
      "Trivia : 37\n",
      "Educational;Education : 35\n",
      "Board : 34\n",
      "Educational : 33\n",
      "Education;Education : 30\n",
      "Word : 23\n",
      "Casual;Pretend Play : 21\n",
      "Music : 18\n",
      "Racing;Action & Adventure : 15\n",
      "Puzzle;Brain Games : 15\n",
      "Entertainment;Music & Video : 15\n",
      "Casual;Brain Games : 12\n",
      "Casual;Action & Adventure : 12\n",
      "Arcade;Action & Adventure : 11\n",
      "Action;Action & Adventure : 9\n",
      "Educational;Pretend Play : 8\n",
      "Simulation;Action & Adventure : 7\n",
      "Parenting;Education : 7\n",
      "Entertainment;Brain Games : 7\n",
      "Board;Brain Games : 7\n",
      "Parenting;Music & Video : 6\n",
      "Educational;Brain Games : 6\n",
      "Casual;Creativity : 6\n",
      "Art & Design;Creativity : 6\n",
      "Education;Pretend Play : 5\n",
      "Role Playing;Pretend Play : 4\n",
      "Education;Creativity : 4\n",
      "Role Playing;Action & Adventure : 3\n",
      "Puzzle;Action & Adventure : 3\n",
      "Entertainment;Creativity : 3\n",
      "Entertainment;Action & Adventure : 3\n",
      "Educational;Creativity : 3\n",
      "Educational;Action & Adventure : 3\n",
      "Education;Music & Video : 3\n",
      "Education;Brain Games : 3\n",
      "Education;Action & Adventure : 3\n",
      "Adventure;Action & Adventure : 3\n",
      "Video Players & Editors;Music & Video : 2\n",
      "Sports;Action & Adventure : 2\n",
      "Simulation;Pretend Play : 2\n",
      "Puzzle;Creativity : 2\n",
      "Music;Music & Video : 2\n",
      "Entertainment;Pretend Play : 2\n",
      "Casual;Education : 2\n",
      "Board;Action & Adventure : 2\n",
      "Video Players & Editors;Creativity : 1\n",
      "Trivia;Education : 1\n",
      "Travel & Local;Action & Adventure : 1\n",
      "Tools;Education : 1\n",
      "Strategy;Education : 1\n",
      "Strategy;Creativity : 1\n",
      "Strategy;Action & Adventure : 1\n",
      "Simulation;Education : 1\n",
      "Role Playing;Brain Games : 1\n",
      "Racing;Pretend Play : 1\n",
      "Puzzle;Education : 1\n",
      "Parenting;Brain Games : 1\n",
      "Music & Audio;Music & Video : 1\n",
      "Lifestyle;Pretend Play : 1\n",
      "Lifestyle;Education : 1\n",
      "Health & Fitness;Education : 1\n",
      "Health & Fitness;Action & Adventure : 1\n",
      "Entertainment;Education : 1\n",
      "Communication;Creativity : 1\n",
      "Comics;Creativity : 1\n",
      "Casual;Music & Video : 1\n",
      "Card;Action & Adventure : 1\n",
      "Books & Reference;Education : 1\n",
      "Art & Design;Pretend Play : 1\n",
      "Art & Design;Action & Adventure : 1\n",
      "Arcade;Pretend Play : 1\n",
      "Adventure;Education : 1\n",
      "\n",
      "Google Play Store Category Rankings\n",
      "\n",
      "FAMILY : 1676\n",
      "GAME : 862\n",
      "TOOLS : 750\n",
      "BUSINESS : 407\n",
      "LIFESTYLE : 346\n",
      "PRODUCTIVITY : 345\n",
      "FINANCE : 328\n",
      "MEDICAL : 313\n",
      "SPORTS : 301\n",
      "PERSONALIZATION : 294\n",
      "COMMUNICATION : 287\n",
      "HEALTH_AND_FITNESS : 273\n",
      "PHOTOGRAPHY : 261\n",
      "NEWS_AND_MAGAZINES : 248\n",
      "SOCIAL : 236\n",
      "TRAVEL_AND_LOCAL : 207\n",
      "SHOPPING : 199\n",
      "BOOKS_AND_REFERENCE : 190\n",
      "DATING : 165\n",
      "VIDEO_PLAYERS : 159\n",
      "MAPS_AND_NAVIGATION : 124\n",
      "FOOD_AND_DRINK : 110\n",
      "EDUCATION : 103\n",
      "ENTERTAINMENT : 85\n",
      "LIBRARIES_AND_DEMO : 83\n",
      "AUTO_AND_VEHICLES : 82\n",
      "HOUSE_AND_HOME : 73\n",
      "WEATHER : 71\n",
      "EVENTS : 63\n",
      "PARENTING : 58\n",
      "ART_AND_DESIGN : 57\n",
      "COMICS : 55\n",
      "BEAUTY : 53\n",
      "\n",
      "Apple App Store Prime Genre Rankings\n",
      "\n",
      "Games : 1874\n",
      "Entertainment : 254\n",
      "Photo & Video : 160\n",
      "Education : 118\n",
      "Social Networking : 106\n",
      "Shopping : 84\n",
      "Utilities : 81\n",
      "Sports : 69\n",
      "Music : 66\n",
      "Health & Fitness : 65\n",
      "Productivity : 56\n",
      "Lifestyle : 51\n",
      "News : 43\n",
      "Travel : 40\n",
      "Finance : 36\n",
      "Weather : 28\n",
      "Food & Drink : 26\n",
      "Reference : 18\n",
      "Business : 17\n",
      "Book : 14\n",
      "Navigation : 6\n",
      "Medical : 6\n",
      "Catalogs : 4\n"
     ]
    }
   ],
   "source": [
    "print('Google Play Store Genre Rankings\\n')\n",
    "display_table(cleaned_google_apps_data, 9)\n",
    "print('\\nGoogle Play Store Category Rankings\\n')\n",
    "display_table(cleaned_google_apps_data, 1)\n",
    "print('\\nApple App Store Prime Genre Rankings\\n')\n",
    "display_table(cleaned_apple_apps_data, 11)"
   ]
  }
 ],
 "metadata": {
  "kernelspec": {
   "display_name": "Python 3",
   "language": "python",
   "name": "python3"
  },
  "language_info": {
   "codemirror_mode": {
    "name": "ipython",
    "version": 3
   },
   "file_extension": ".py",
   "mimetype": "text/x-python",
   "name": "python",
   "nbconvert_exporter": "python",
   "pygments_lexer": "ipython3",
   "version": "3.8.5"
  }
 },
 "nbformat": 4,
 "nbformat_minor": 5
}
